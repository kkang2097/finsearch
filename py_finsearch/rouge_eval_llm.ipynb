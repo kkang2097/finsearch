{
 "cells": [
  {
   "cell_type": "markdown",
   "id": "3b47efab",
   "metadata": {},
   "source": [
    "# Automated evaluation of FinanceBench using ROUGE-SU"
   ]
  },
  {
   "cell_type": "markdown",
   "id": "086248aa",
   "metadata": {},
   "source": [
    "Currently, there are not that many automated eval options with LLMs.\n",
    "\n",
    "\n",
    "**Insert more text here\n",
    "- Goals\n",
    "- Approach\n",
    "- Outline"
   ]
  },
  {
   "cell_type": "markdown",
   "id": "6ef924f5",
   "metadata": {},
   "source": [
    "## Preprocessing\n",
    "We can use NLTK to remove stop words and remap the questions into a `List[str]` type"
   ]
  },
  {
   "cell_type": "code",
   "execution_count": 6,
   "id": "28b7c1f9",
   "metadata": {
    "scrolled": false
   },
   "outputs": [
    {
     "data": {
      "text/html": [
       "<div>\n",
       "<style scoped>\n",
       "    .dataframe tbody tr th:only-of-type {\n",
       "        vertical-align: middle;\n",
       "    }\n",
       "\n",
       "    .dataframe tbody tr th {\n",
       "        vertical-align: top;\n",
       "    }\n",
       "\n",
       "    .dataframe thead th {\n",
       "        text-align: right;\n",
       "    }\n",
       "</style>\n",
       "<table border=\"1\" class=\"dataframe\">\n",
       "  <thead>\n",
       "    <tr style=\"text-align: right;\">\n",
       "      <th></th>\n",
       "      <th>question</th>\n",
       "      <th>answer</th>\n",
       "    </tr>\n",
       "  </thead>\n",
       "  <tbody>\n",
       "    <tr>\n",
       "      <th>0</th>\n",
       "      <td>What is the FY2018 capital expenditure amount ...</td>\n",
       "      <td>[$, 1577.00]</td>\n",
       "    </tr>\n",
       "    <tr>\n",
       "      <th>1</th>\n",
       "      <td>Assume that you are a public equities analyst....</td>\n",
       "      <td>[$, 8.70]</td>\n",
       "    </tr>\n",
       "    <tr>\n",
       "      <th>2</th>\n",
       "      <td>Is 3M a capital-intensive business based on FY...</td>\n",
       "      <td>[,, company, managing, CAPEX, Fixed, Assets, p...</td>\n",
       "    </tr>\n",
       "    <tr>\n",
       "      <th>3</th>\n",
       "      <td>What drove operating margin change as of FY202...</td>\n",
       "      <td>[Operating, Margin, 3M, FY2022, decreased, 1.7...</td>\n",
       "    </tr>\n",
       "    <tr>\n",
       "      <th>4</th>\n",
       "      <td>If we exclude the impact of M&amp;A, which segment...</td>\n",
       "      <td>[consumer, segment, shrunk, 0.9, %, organicall...</td>\n",
       "    </tr>\n",
       "  </tbody>\n",
       "</table>\n",
       "</div>"
      ],
      "text/plain": [
       "                                            question  \\\n",
       "0  What is the FY2018 capital expenditure amount ...   \n",
       "1  Assume that you are a public equities analyst....   \n",
       "2  Is 3M a capital-intensive business based on FY...   \n",
       "3  What drove operating margin change as of FY202...   \n",
       "4  If we exclude the impact of M&A, which segment...   \n",
       "\n",
       "                                              answer  \n",
       "0                                       [$, 1577.00]  \n",
       "1                                          [$, 8.70]  \n",
       "2  [,, company, managing, CAPEX, Fixed, Assets, p...  \n",
       "3  [Operating, Margin, 3M, FY2022, decreased, 1.7...  \n",
       "4  [consumer, segment, shrunk, 0.9, %, organicall...  "
      ]
     },
     "execution_count": 6,
     "metadata": {},
     "output_type": "execute_result"
    }
   ],
   "source": [
    "import pandas as pd\n",
    "from openai import OpenAI\n",
    "from nltk.corpus import stopwords\n",
    "from nltk.tokenize import word_tokenize\n",
    "from functools import partial\n",
    "import rouge_metric\n",
    "from tqdm import tqdm\n",
    "import time\n",
    "\n",
    "\n",
    "#Data processing\n",
    "df = pd.read_csv(\"financebench_sample_150.csv\")[[\"question\", \"answer\"]]\n",
    "stop_words = list(set(stopwords.words('english')))\n",
    "def preprocess(sequence: str):\n",
    "    returnVal = [w for w in word_tokenize(sequence) if not w.lower() in stop_words]\n",
    "    #returnVal = [''.join(c for c in s if c not in string.punctuation) for s in returnVal]\n",
    "    return list(filter(None, returnVal))\n",
    "\n",
    "df[\"answer\"] = df[\"answer\"].apply(preprocess)\n",
    "df.head()"
   ]
  },
  {
   "cell_type": "code",
   "execution_count": 24,
   "id": "8d695a41",
   "metadata": {
    "scrolled": true
   },
   "outputs": [
    {
     "name": "stdout",
     "output_type": "stream",
     "text": [
      "I currently do not have access to specific financial data for 3M for the year end FY2018, including the net PP&E (Property, Plant, and Equipment). To obtain this information, please refer to 3M's official financial statements for FY2018, which can typically be found in their annual report or on their investor relations website.\n"
     ]
    }
   ],
   "source": [
    "print(custom_completion(df['question'][1]))"
   ]
  },
  {
   "cell_type": "code",
   "execution_count": 16,
   "id": "eb7acf0d",
   "metadata": {},
   "outputs": [],
   "source": [
    "#OpenAI client, default GPT4\n",
    "default_client = OpenAI()\n",
    "custom_client = OpenAI(api_key=\"NONE\", base_url=\"https://finsearch-l35slsdlnq-uc.a.run.app\")\n",
    "def gpt_wrap_message(client: OpenAI, query: str):\n",
    "    return client.chat.completions.create(\n",
    "        model = \"gpt-4-turbo\",\n",
    "        messages = [\n",
    "            {\"role\": \"user\", \"content\": query}\n",
    "        ]\n",
    "        ).choices[0].message.content\n",
    "\n",
    "def customgpt_wrap_message(client: OpenAI, query: str):\n",
    "    return client.chat.completions.create(\n",
    "        model = \"gpt-4-turbo\",\n",
    "        messages = [\n",
    "            {\"role\": \"user\", \"content\": query}\n",
    "        ]\n",
    "        ).choices[0].content\n",
    "\n",
    "\n",
    "#Check the progress meter for each of our df.apply() methods\n",
    "tqdm.pandas()\n",
    "\n",
    "#Fix argument 1 with our OpenAI clients\n",
    "default_completion = partial(gpt_wrap_message, default_client)\n",
    "custom_completion = partial(customgpt_wrap_message, custom_client)\n",
    "\n",
    "#df['gpt_answers'] = df['question'].progress_apply(default_completion)\n",
    "#df['custom_answers'] = df['question'].progress_apply(custom_completion)"
   ]
  },
  {
   "cell_type": "code",
   "execution_count": 27,
   "id": "f004b0f5",
   "metadata": {},
   "outputs": [],
   "source": [
    "df.to_pickle(\"./financebench_answers.pkl\")"
   ]
  },
  {
   "cell_type": "markdown",
   "id": "1b9a5be6",
   "metadata": {},
   "source": [
    "### Start Here if data is loaded from pickle"
   ]
  },
  {
   "cell_type": "code",
   "execution_count": 3,
   "id": "b909f587",
   "metadata": {},
   "outputs": [],
   "source": [
    "new_df = pd.read_pickle('./financebench_answers.pkl')"
   ]
  },
  {
   "cell_type": "code",
   "execution_count": 18,
   "id": "4d2878f3",
   "metadata": {
    "scrolled": true
   },
   "outputs": [
    {
     "name": "stderr",
     "output_type": "stream",
     "text": [
      "100%|██████████████████████████████████████████████████████████████████████████████████████████████████████████████████████████████████████████████████████████████████████████| 150/150 [20:14<00:00,  8.10s/it]\n"
     ]
    }
   ],
   "source": [
    "custom_results = []\n",
    "for i in tqdm(range(len(new_df))):\n",
    "    custom_results.append(custom_completion(df['question'][i]))"
   ]
  },
  {
   "cell_type": "code",
   "execution_count": 24,
   "id": "3966293f",
   "metadata": {},
   "outputs": [],
   "source": [
    "new_df2 = new_df.assign(custom_answers=custom_results)\n",
    "new_df2.to_pickle(\"./financebench_final.pkl\")"
   ]
  },
  {
   "cell_type": "code",
   "execution_count": 25,
   "id": "9cf52310",
   "metadata": {},
   "outputs": [],
   "source": [
    "third_df = pd.read_pickle('./financebench_final.pkl')"
   ]
  },
  {
   "cell_type": "code",
   "execution_count": 30,
   "id": "4ecb2022",
   "metadata": {},
   "outputs": [
    {
     "data": {
      "text/plain": [
       "'The FY2018 capital expenditure amount for 3M in USD millions was 1,550 million. This figure is derived from the snippet stating that 3M reported a capital expenditure of 1.55 billion in the previous year. Since 1 billion equals 1,000 million, the conversion from 1.55 billion to million is 1,550 million.'"
      ]
     },
     "execution_count": 30,
     "metadata": {},
     "output_type": "execute_result"
    }
   ],
   "source": [
    "third_df['custom_answers'][0]"
   ]
  },
  {
   "cell_type": "markdown",
   "id": "1bf54439",
   "metadata": {},
   "source": [
    "### Running Metrics"
   ]
  },
  {
   "cell_type": "code",
   "execution_count": null,
   "id": "3a60aa9d",
   "metadata": {},
   "outputs": [],
   "source": [
    "from rouge_metric import PerlRouge\n",
    "\n",
    "rouge = PerlRouge(rouge_n_max=3, rouge_l=True, rouge_w=True,\n",
    "    rouge_w_weight=1.2, rouge_s=True, rouge_su=True, skip_gap=4)"
   ]
  }
 ],
 "metadata": {
  "kernelspec": {
   "display_name": "Python 3 (ipykernel)",
   "language": "python",
   "name": "python3"
  },
  "language_info": {
   "codemirror_mode": {
    "name": "ipython",
    "version": 3
   },
   "file_extension": ".py",
   "mimetype": "text/x-python",
   "name": "python",
   "nbconvert_exporter": "python",
   "pygments_lexer": "ipython3",
   "version": "3.10.9"
  }
 },
 "nbformat": 4,
 "nbformat_minor": 5
}
